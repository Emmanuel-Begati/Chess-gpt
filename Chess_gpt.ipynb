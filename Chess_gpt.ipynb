{
 "cells": [
  {
   "cell_type": "markdown",
   "id": "ca8c0833",
   "metadata": {},
   "source": [
    " "
   ]
  },
  {
   "cell_type": "code",
   "execution_count": 1,
   "id": "606edeb8",
   "metadata": {},
   "outputs": [],
   "source": [
    "# pip install torch transformers datasets accelerate gradio"
   ]
  },
  {
   "cell_type": "code",
   "execution_count": 2,
   "id": "c1bf35e6",
   "metadata": {},
   "outputs": [
    {
     "name": "stderr",
     "output_type": "stream",
     "text": [
      "C:\\Users\\begat\\anaconda3\\Lib\\site-packages\\torch\\utils\\_pytree.py:185: FutureWarning: optree is installed but the version is too old to support PyTorch Dynamo in C++ pytree. C++ pytree support is disabled. Please consider upgrading optree using `python3 -m pip install --upgrade 'optree>=0.13.0'`.\n",
      "  warnings.warn(\n"
     ]
    }
   ],
   "source": [
    "from transformers import AutoModelForCausalLM, AutoTokenizer\n",
    "import torch\n",
    "\n",
    "model_name = \"microsoft/DialoGPT-small\"\n",
    "tokenizer = AutoTokenizer.from_pretrained(model_name)\n",
    "model = AutoModelForCausalLM.from_pretrained(model_name)\n"
   ]
  },
  {
   "cell_type": "code",
   "execution_count": 3,
   "id": "9190eef6",
   "metadata": {},
   "outputs": [
    {
     "name": "stdout",
     "output_type": "stream",
     "text": [
      "What is the best opening in chess?\n"
     ]
    },
    {
     "data": {
      "text/plain": [
       "<function print(*args, sep=' ', end='\\n', file=None, flush=False)>"
      ]
     },
     "execution_count": 3,
     "metadata": {},
     "output_type": "execute_result"
    }
   ],
   "source": [
    "def chat_with_bot(user_input):\n",
    "    # Set the pad_token to the same as the eos_token\n",
    "    tokenizer.pad_token = tokenizer.eos_token\n",
    "    \n",
    "    # Encode the input and create an attention mask\n",
    "    inputs = tokenizer.encode_plus(user_input + tokenizer.eos_token, return_tensors=\"pt\", padding=True, truncation=True)\n",
    "    input_ids = inputs[\"input_ids\"]\n",
    "    attention_mask = inputs[\"attention_mask\"]\n",
    "    \n",
    "    # Generate a response from the model\n",
    "    response_ids = model.generate(input_ids, attention_mask=attention_mask, max_length=100, pad_token_id=tokenizer.eos_token_id)\n",
    "    response = tokenizer.decode(response_ids[:, input_ids.shape[-1]:][0], skip_special_tokens=True)\n",
    "    \n",
    "    return response\n",
    "\n",
    "print(chat_with_bot(\"What is the best opening in chess?\"))\n",
    "print\n",
    "\n"
   ]
  },
  {
   "cell_type": "code",
   "execution_count": 6,
   "id": "881c11bb",
   "metadata": {},
   "outputs": [
    {
     "name": "stdout",
     "output_type": "stream",
     "text": [
      "<class 'list'>\n",
      "[{'question': 'What is a more efficient thinking process?', 'answer': \"I'm a bit of a perfectionist and strive to make the best move every game. As a result I think I expend too much brain power throughout the game and get burned out or overwhelmed by the possibilites, for example in the opening I would try consider all my opponents responses of which there are many in the opening, sometimes I feel habits such as these are unnecessary and are just a waste of energy. What is the most correct way to expend your mental energy in a chess game?\"}]\n",
      "Dataset({\n",
      "    features: ['input_text', 'response_text'],\n",
      "    num_rows: 700\n",
      "})\n"
     ]
    }
   ],
   "source": [
    "import json\n",
    "from datasets import Dataset\n",
    "\n",
    "# Load the first JSON file\n",
    "with open(\"chess_com_qa.json\", \"r\") as f1:\n",
    "    data1 = json.load(f1)\n",
    "\n",
    "# Load the second JSON file\n",
    "with open(\"chess_qa.json\", \"r\") as f2:\n",
    "    data2 = json.load(f2)\n",
    "\n",
    "# Combine the data from both files\n",
    "combined_data = data1 + data2  # Assuming both files contain lists of dictionaries\n",
    "\n",
    "# Inspect the structure of the combined data\n",
    "print(type(combined_data))  # Should print the type of data (list or dict)\n",
    "print(combined_data[:1])    # Print the first element to see its structure\n",
    "\n",
    "# Assuming combined_data is a list of dictionaries with \"question\" and \"answer\" keys\n",
    "chat_data = {\"input_text\": [], \"response_text\": []}\n",
    "for conv in combined_data:\n",
    "    chat_data[\"input_text\"].append(conv[\"question\"])\n",
    "    chat_data[\"response_text\"].append(conv[\"answer\"])\n",
    "\n",
    "# Convert to dataset format\n",
    "dataset = Dataset.from_dict(chat_data)\n",
    "\n",
    "print(dataset)\n"
   ]
  },
  {
   "cell_type": "code",
   "execution_count": 7,
   "id": "90956c57",
   "metadata": {},
   "outputs": [
    {
     "data": {
      "application/vnd.jupyter.widget-view+json": {
       "model_id": "8a032a06b6754ce285ae52fc15df3dad",
       "version_major": 2,
       "version_minor": 0
      },
      "text/plain": [
       "Map:   0%|          | 0/700 [00:00<?, ? examples/s]"
      ]
     },
     "metadata": {},
     "output_type": "display_data"
    }
   ],
   "source": [
    "def tokenize_function(samples):\n",
    "    inputs = tokenizer(samples[\"input_text\"], padding=\"max_length\", truncation=True, max_length=128)\n",
    "    responses = tokenizer(samples[\"response_text\"], padding=\"max_length\", truncation=True, max_length=128)\n",
    "    inputs[\"labels\"] = responses[\"input_ids\"]\n",
    "    return inputs\n",
    "\n",
    "tokenized_dataset = dataset.map(tokenize_function, batched=True)\n",
    "tokenized_dataset.set_format(type=\"torch\", columns=[\"input_ids\", \"attention_mask\", \"labels\"])\n"
   ]
  },
  {
   "cell_type": "code",
   "execution_count": null,
   "id": "6ef9078f",
   "metadata": {},
   "outputs": [],
   "source": [
    "!pip install tf-keras\n",
    "\n",
    "from transformers import Trainer, TrainingArguments\n",
    "\n",
    "training_args = TrainingArguments(\n",
    "    output_dir=\"./chess-chatbot\",\n",
    "    per_device_train_batch_size=4,\n",
    "    num_train_epochs=3,\n",
    "    logging_dir=\"./logs\",\n",
    "    save_steps=500,\n",
    "    evaluation_strategy=\"epoch\"\n",
    ")\n",
    "\n",
    "trainer = Trainer(\n",
    "    model=model,\n",
    "    args=training_args,\n",
    "    train_dataset=tokenized_dataset\n",
    ")\n",
    "\n",
    "trainer.train()\n",
    "model.save_pretrained(\"./fine_tuned_chess_chatbot\")\n",
    "tokenizer.save_pretrained(\"./fine_tuned_chess_chatbot\")\n"
   ]
  },
  {
   "cell_type": "code",
   "execution_count": null,
   "id": "643286a8",
   "metadata": {},
   "outputs": [],
   "source": []
  }
 ],
 "metadata": {
  "kernelspec": {
   "display_name": "Python 3 (ipykernel)",
   "language": "python",
   "name": "python3"
  },
  "language_info": {
   "codemirror_mode": {
    "name": "ipython",
    "version": 3
   },
   "file_extension": ".py",
   "mimetype": "text/x-python",
   "name": "python",
   "nbconvert_exporter": "python",
   "pygments_lexer": "ipython3",
   "version": "3.11.7"
  }
 },
 "nbformat": 4,
 "nbformat_minor": 5
}
